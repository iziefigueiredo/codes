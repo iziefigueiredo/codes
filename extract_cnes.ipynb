{
 "cells": [
  {
   "cell_type": "code",
   "execution_count": null,
   "id": "06c171b4",
   "metadata": {},
   "outputs": [
    {
     "name": "stderr",
     "output_type": "stream",
     "text": [
      "STAC2301.parquet:   0%|          | 0.00/3.22k [00:00<?, ?B/s]     /home/isadora/ic/.venv/lib/python3.12/site-packages/tqdm/std.py:533: TqdmWarning: clamping frac to range [0, 1]\n",
      "  full_bar = Bar(frac,\n",
      "STBA2304.parquet:   0%|          | 0.00/50.5k [00:00<?, ?B/s]         Exception ignored in: <bound method IPythonKernel._clean_thread_parent_frames of <ipykernel.ipkernel.IPythonKernel object at 0x7aa50baa78c0>>\n",
      "Traceback (most recent call last):\n",
      "  File \"/home/isadora/ic/.venv/lib/python3.12/site-packages/ipykernel/ipkernel.py\", line 775, in _clean_thread_parent_frames\n",
      "    def _clean_thread_parent_frames(\n",
      "\n",
      "KeyboardInterrupt: \n",
      "STMG2306.parquet:   0%|          | 0.00/132k [00:00<?, ?B/s]      "
     ]
    }
   ],
   "source": [
    "from pysus import CNES\n",
    "\n",
    "# Inicializa acesso ao CNES\n",
    "cnes = CNES()\n",
    "\n",
    "# Exemplo: baixar arquivos do grupo ST (Estabelecimentos) de jan a jun/2023\n",
    "# Para todo o Brasil:\n",
    "files = cnes.get_files(\"ST\", year=2023, month=[1,2,3,4,5,6])\n",
    "\n",
    "# Para um estado específico, basta adicionar uf=\"RS\" (ou SP, MG, etc.)\n",
    "# files = cnes.get_files(\"ST\", uf=\"RS\", year=2023, month=[1,2,3,4,5,6])\n",
    "\n",
    "parquets = cnes.download(files)\n",
    "\n",
    "print(len(parquets), \"arquivos baixados com sucesso!\")\n",
    "print(\"Exemplo de caminhos retornados:\", parquets[:3])\n",
    "\n",
    "# ---------------------------------------------------------------------\n",
    "# Observações:\n",
    "# - O PySUS salva os arquivos em uma pasta de cache interna (/home/usuario/pysus).\n",
    "# - É possível trocar o grupo:\n",
    "#     \"ST\" → Estabelecimentos\n",
    "#     \"HB\" → Habilitação\n",
    "#     \"SR\" → Serviço Especializado\n",
    "#     \"LT\" → Leitos\n",
    "#     \"PF\" → Profissional\n",
    "# 
    "#  
    "# ---------------------------------------------------------------------\n"
   ]
  }
 ],
 "metadata": {
  "kernelspec": {
   "display_name": ".venv",
   "language": "python",
   "name": "python3"
  },
  "language_info": {
   "codemirror_mode": {
    "name": "ipython",
    "version": 3
   },
   "file_extension": ".py",
   "mimetype": "text/x-python",
   "name": "python",
   "nbconvert_exporter": "python",
   "pygments_lexer": "ipython3",
   "version": "3.12.3"
  }
 },
 "nbformat": 4,
 "nbformat_minor": 5
}
